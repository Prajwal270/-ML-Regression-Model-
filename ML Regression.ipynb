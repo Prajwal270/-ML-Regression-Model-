{
 "cells": [
  {
   "cell_type": "code",
   "execution_count": 1,
   "metadata": {},
   "outputs": [
    {
     "name": "stdout",
     "output_type": "stream",
     "text": [
      "Prajwal Raj\n"
     ]
    }
   ],
   "source": [
    "print('Prajwal Raj')"
   ]
  },
  {
   "cell_type": "code",
   "execution_count": 2,
   "metadata": {},
   "outputs": [
    {
     "name": "stdout",
     "output_type": "stream",
     "text": [
      "Machine Learning Techniquies\n"
     ]
    }
   ],
   "source": [
    "print(\"Machine Learning Techniquies\")"
   ]
  },
  {
   "cell_type": "markdown",
   "metadata": {},
   "source": [
    "Classification Techniques"
   ]
  },
  {
   "cell_type": "code",
   "execution_count": 7,
   "metadata": {},
   "outputs": [],
   "source": [
    "#importing required libraries\n",
    "\n",
    "\n",
    "# to ingest the data in the notebook\n",
    "import pandas as pd\n",
    "\n",
    "#to split the data in training and testing set\n",
    "from sklearn.model_selection import train_test_split\n",
    "\n",
    "#We are going to use Decision tree classifier\n",
    "from sklearn.tree import DecisionTreeClassifier\n",
    "\n",
    "#to evaluate the predicted result comparision to Ground Truth\n",
    "from sklearn.metrics import mean_squared_error\n",
    "from sklearn.metrics import accuracy_score\n",
    "\n"
   ]
  },
  {
   "cell_type": "code",
   "execution_count": null,
   "metadata": {},
   "outputs": [],
   "source": []
  },
  {
   "cell_type": "code",
   "execution_count": 8,
   "metadata": {},
   "outputs": [],
   "source": [
    "# Get the data with pandas library\n",
    "\n",
    "df = pd.read_csv('./weather/daily_weather.csv')"
   ]
  },
  {
   "cell_type": "code",
   "execution_count": 9,
   "metadata": {},
   "outputs": [
    {
     "data": {
      "text/html": [
       "<div>\n",
       "<style scoped>\n",
       "    .dataframe tbody tr th:only-of-type {\n",
       "        vertical-align: middle;\n",
       "    }\n",
       "\n",
       "    .dataframe tbody tr th {\n",
       "        vertical-align: top;\n",
       "    }\n",
       "\n",
       "    .dataframe thead th {\n",
       "        text-align: right;\n",
       "    }\n",
       "</style>\n",
       "<table border=\"1\" class=\"dataframe\">\n",
       "  <thead>\n",
       "    <tr style=\"text-align: right;\">\n",
       "      <th></th>\n",
       "      <th>number</th>\n",
       "      <th>air_pressure_9am</th>\n",
       "      <th>air_temp_9am</th>\n",
       "      <th>avg_wind_direction_9am</th>\n",
       "      <th>avg_wind_speed_9am</th>\n",
       "      <th>max_wind_direction_9am</th>\n",
       "      <th>max_wind_speed_9am</th>\n",
       "      <th>rain_accumulation_9am</th>\n",
       "      <th>rain_duration_9am</th>\n",
       "      <th>relative_humidity_9am</th>\n",
       "      <th>relative_humidity_3pm</th>\n",
       "    </tr>\n",
       "  </thead>\n",
       "  <tbody>\n",
       "    <tr>\n",
       "      <td>0</td>\n",
       "      <td>0</td>\n",
       "      <td>918.060000</td>\n",
       "      <td>74.822000</td>\n",
       "      <td>271.100000</td>\n",
       "      <td>2.080354</td>\n",
       "      <td>295.400000</td>\n",
       "      <td>2.863283</td>\n",
       "      <td>0.0</td>\n",
       "      <td>0.0</td>\n",
       "      <td>42.420000</td>\n",
       "      <td>36.160000</td>\n",
       "    </tr>\n",
       "    <tr>\n",
       "      <td>1</td>\n",
       "      <td>1</td>\n",
       "      <td>917.347688</td>\n",
       "      <td>71.403843</td>\n",
       "      <td>101.935179</td>\n",
       "      <td>2.443009</td>\n",
       "      <td>140.471548</td>\n",
       "      <td>3.533324</td>\n",
       "      <td>0.0</td>\n",
       "      <td>0.0</td>\n",
       "      <td>24.328697</td>\n",
       "      <td>19.426597</td>\n",
       "    </tr>\n",
       "    <tr>\n",
       "      <td>2</td>\n",
       "      <td>2</td>\n",
       "      <td>923.040000</td>\n",
       "      <td>60.638000</td>\n",
       "      <td>51.000000</td>\n",
       "      <td>17.067852</td>\n",
       "      <td>63.700000</td>\n",
       "      <td>22.100967</td>\n",
       "      <td>0.0</td>\n",
       "      <td>20.0</td>\n",
       "      <td>8.900000</td>\n",
       "      <td>14.460000</td>\n",
       "    </tr>\n",
       "    <tr>\n",
       "      <td>3</td>\n",
       "      <td>3</td>\n",
       "      <td>920.502751</td>\n",
       "      <td>70.138895</td>\n",
       "      <td>198.832133</td>\n",
       "      <td>4.337363</td>\n",
       "      <td>211.203341</td>\n",
       "      <td>5.190045</td>\n",
       "      <td>0.0</td>\n",
       "      <td>0.0</td>\n",
       "      <td>12.189102</td>\n",
       "      <td>12.742547</td>\n",
       "    </tr>\n",
       "    <tr>\n",
       "      <td>4</td>\n",
       "      <td>4</td>\n",
       "      <td>921.160000</td>\n",
       "      <td>44.294000</td>\n",
       "      <td>277.800000</td>\n",
       "      <td>1.856660</td>\n",
       "      <td>136.500000</td>\n",
       "      <td>2.863283</td>\n",
       "      <td>8.9</td>\n",
       "      <td>14730.0</td>\n",
       "      <td>92.410000</td>\n",
       "      <td>76.740000</td>\n",
       "    </tr>\n",
       "  </tbody>\n",
       "</table>\n",
       "</div>"
      ],
      "text/plain": [
       "   number  air_pressure_9am  air_temp_9am  avg_wind_direction_9am  \\\n",
       "0       0        918.060000     74.822000              271.100000   \n",
       "1       1        917.347688     71.403843              101.935179   \n",
       "2       2        923.040000     60.638000               51.000000   \n",
       "3       3        920.502751     70.138895              198.832133   \n",
       "4       4        921.160000     44.294000              277.800000   \n",
       "\n",
       "   avg_wind_speed_9am  max_wind_direction_9am  max_wind_speed_9am  \\\n",
       "0            2.080354              295.400000            2.863283   \n",
       "1            2.443009              140.471548            3.533324   \n",
       "2           17.067852               63.700000           22.100967   \n",
       "3            4.337363              211.203341            5.190045   \n",
       "4            1.856660              136.500000            2.863283   \n",
       "\n",
       "   rain_accumulation_9am  rain_duration_9am  relative_humidity_9am  \\\n",
       "0                    0.0                0.0              42.420000   \n",
       "1                    0.0                0.0              24.328697   \n",
       "2                    0.0               20.0               8.900000   \n",
       "3                    0.0                0.0              12.189102   \n",
       "4                    8.9            14730.0              92.410000   \n",
       "\n",
       "   relative_humidity_3pm  \n",
       "0              36.160000  \n",
       "1              19.426597  \n",
       "2              14.460000  \n",
       "3              12.742547  \n",
       "4              76.740000  "
      ]
     },
     "execution_count": 9,
     "metadata": {},
     "output_type": "execute_result"
    }
   ],
   "source": [
    "df.head()"
   ]
  },
  {
   "cell_type": "markdown",
   "metadata": {},
   "source": [
    "Doing some Data Analysis and Data Preprocessing"
   ]
  },
  {
   "cell_type": "code",
   "execution_count": 16,
   "metadata": {},
   "outputs": [
    {
     "data": {
      "text/plain": [
       "['number',\n",
       " 'air_pressure_9am',\n",
       " 'air_temp_9am',\n",
       " 'avg_wind_direction_9am',\n",
       " 'avg_wind_speed_9am',\n",
       " 'max_wind_direction_9am',\n",
       " 'max_wind_speed_9am',\n",
       " 'rain_accumulation_9am',\n",
       " 'rain_duration_9am',\n",
       " 'relative_humidity_9am',\n",
       " 'relative_humidity_3pm']"
      ]
     },
     "execution_count": 16,
     "metadata": {},
     "output_type": "execute_result"
    }
   ],
   "source": [
    "df.columns.tolist()\n"
   ]
  },
  {
   "cell_type": "code",
   "execution_count": 11,
   "metadata": {},
   "outputs": [
    {
     "data": {
      "text/plain": [
       "number                    False\n",
       "air_pressure_9am           True\n",
       "air_temp_9am               True\n",
       "avg_wind_direction_9am     True\n",
       "avg_wind_speed_9am         True\n",
       "max_wind_direction_9am     True\n",
       "max_wind_speed_9am         True\n",
       "rain_accumulation_9am      True\n",
       "rain_duration_9am          True\n",
       "relative_humidity_9am     False\n",
       "relative_humidity_3pm     False\n",
       "dtype: bool"
      ]
     },
     "execution_count": 11,
     "metadata": {},
     "output_type": "execute_result"
    }
   ],
   "source": [
    "df.isnull().any()"
   ]
  },
  {
   "cell_type": "code",
   "execution_count": 12,
   "metadata": {},
   "outputs": [
    {
     "name": "stdout",
     "output_type": "stream",
     "text": [
      "<class 'pandas.core.frame.DataFrame'>\n",
      "RangeIndex: 1095 entries, 0 to 1094\n",
      "Data columns (total 11 columns):\n",
      "number                    1095 non-null int64\n",
      "air_pressure_9am          1092 non-null float64\n",
      "air_temp_9am              1090 non-null float64\n",
      "avg_wind_direction_9am    1091 non-null float64\n",
      "avg_wind_speed_9am        1092 non-null float64\n",
      "max_wind_direction_9am    1092 non-null float64\n",
      "max_wind_speed_9am        1091 non-null float64\n",
      "rain_accumulation_9am     1089 non-null float64\n",
      "rain_duration_9am         1092 non-null float64\n",
      "relative_humidity_9am     1095 non-null float64\n",
      "relative_humidity_3pm     1095 non-null float64\n",
      "dtypes: float64(10), int64(1)\n",
      "memory usage: 94.2 KB\n"
     ]
    }
   ],
   "source": [
    "df.info()"
   ]
  },
  {
   "cell_type": "code",
   "execution_count": 13,
   "metadata": {},
   "outputs": [
    {
     "data": {
      "text/plain": [
       "(1095, 11)"
      ]
     },
     "execution_count": 13,
     "metadata": {},
     "output_type": "execute_result"
    }
   ],
   "source": [
    "df.shape"
   ]
  },
  {
   "cell_type": "code",
   "execution_count": 17,
   "metadata": {},
   "outputs": [
    {
     "data": {
      "text/html": [
       "<div>\n",
       "<style scoped>\n",
       "    .dataframe tbody tr th:only-of-type {\n",
       "        vertical-align: middle;\n",
       "    }\n",
       "\n",
       "    .dataframe tbody tr th {\n",
       "        vertical-align: top;\n",
       "    }\n",
       "\n",
       "    .dataframe thead th {\n",
       "        text-align: right;\n",
       "    }\n",
       "</style>\n",
       "<table border=\"1\" class=\"dataframe\">\n",
       "  <thead>\n",
       "    <tr style=\"text-align: right;\">\n",
       "      <th></th>\n",
       "      <th>count</th>\n",
       "      <th>mean</th>\n",
       "      <th>std</th>\n",
       "      <th>min</th>\n",
       "      <th>25%</th>\n",
       "      <th>50%</th>\n",
       "      <th>75%</th>\n",
       "      <th>max</th>\n",
       "    </tr>\n",
       "  </thead>\n",
       "  <tbody>\n",
       "    <tr>\n",
       "      <td>number</td>\n",
       "      <td>1095.0</td>\n",
       "      <td>547.000000</td>\n",
       "      <td>316.243577</td>\n",
       "      <td>0.000000</td>\n",
       "      <td>273.500000</td>\n",
       "      <td>547.000000</td>\n",
       "      <td>820.500000</td>\n",
       "      <td>1094.000000</td>\n",
       "    </tr>\n",
       "    <tr>\n",
       "      <td>air_pressure_9am</td>\n",
       "      <td>1092.0</td>\n",
       "      <td>918.882551</td>\n",
       "      <td>3.184161</td>\n",
       "      <td>907.990000</td>\n",
       "      <td>916.550000</td>\n",
       "      <td>918.921045</td>\n",
       "      <td>921.160073</td>\n",
       "      <td>929.320000</td>\n",
       "    </tr>\n",
       "    <tr>\n",
       "      <td>air_temp_9am</td>\n",
       "      <td>1090.0</td>\n",
       "      <td>64.933001</td>\n",
       "      <td>11.175514</td>\n",
       "      <td>36.752000</td>\n",
       "      <td>57.281000</td>\n",
       "      <td>65.715479</td>\n",
       "      <td>73.450974</td>\n",
       "      <td>98.906000</td>\n",
       "    </tr>\n",
       "    <tr>\n",
       "      <td>avg_wind_direction_9am</td>\n",
       "      <td>1091.0</td>\n",
       "      <td>142.235511</td>\n",
       "      <td>69.137859</td>\n",
       "      <td>15.500000</td>\n",
       "      <td>65.972506</td>\n",
       "      <td>166.000000</td>\n",
       "      <td>191.000000</td>\n",
       "      <td>343.400000</td>\n",
       "    </tr>\n",
       "    <tr>\n",
       "      <td>avg_wind_speed_9am</td>\n",
       "      <td>1092.0</td>\n",
       "      <td>5.508284</td>\n",
       "      <td>4.552813</td>\n",
       "      <td>0.693451</td>\n",
       "      <td>2.248768</td>\n",
       "      <td>3.871333</td>\n",
       "      <td>7.337163</td>\n",
       "      <td>23.554978</td>\n",
       "    </tr>\n",
       "    <tr>\n",
       "      <td>max_wind_direction_9am</td>\n",
       "      <td>1092.0</td>\n",
       "      <td>148.953518</td>\n",
       "      <td>67.238013</td>\n",
       "      <td>28.900000</td>\n",
       "      <td>76.553003</td>\n",
       "      <td>177.300000</td>\n",
       "      <td>201.233153</td>\n",
       "      <td>312.200000</td>\n",
       "    </tr>\n",
       "    <tr>\n",
       "      <td>max_wind_speed_9am</td>\n",
       "      <td>1091.0</td>\n",
       "      <td>7.019514</td>\n",
       "      <td>5.598209</td>\n",
       "      <td>1.185578</td>\n",
       "      <td>3.067477</td>\n",
       "      <td>4.943637</td>\n",
       "      <td>8.947760</td>\n",
       "      <td>29.840780</td>\n",
       "    </tr>\n",
       "    <tr>\n",
       "      <td>rain_accumulation_9am</td>\n",
       "      <td>1089.0</td>\n",
       "      <td>0.203079</td>\n",
       "      <td>1.593952</td>\n",
       "      <td>0.000000</td>\n",
       "      <td>0.000000</td>\n",
       "      <td>0.000000</td>\n",
       "      <td>0.000000</td>\n",
       "      <td>24.020000</td>\n",
       "    </tr>\n",
       "    <tr>\n",
       "      <td>rain_duration_9am</td>\n",
       "      <td>1092.0</td>\n",
       "      <td>294.108052</td>\n",
       "      <td>1598.078779</td>\n",
       "      <td>0.000000</td>\n",
       "      <td>0.000000</td>\n",
       "      <td>0.000000</td>\n",
       "      <td>0.000000</td>\n",
       "      <td>17704.000000</td>\n",
       "    </tr>\n",
       "    <tr>\n",
       "      <td>relative_humidity_9am</td>\n",
       "      <td>1095.0</td>\n",
       "      <td>34.241402</td>\n",
       "      <td>25.472067</td>\n",
       "      <td>6.090000</td>\n",
       "      <td>15.092243</td>\n",
       "      <td>23.179259</td>\n",
       "      <td>45.400000</td>\n",
       "      <td>92.620000</td>\n",
       "    </tr>\n",
       "    <tr>\n",
       "      <td>relative_humidity_3pm</td>\n",
       "      <td>1095.0</td>\n",
       "      <td>35.344727</td>\n",
       "      <td>22.524079</td>\n",
       "      <td>5.300000</td>\n",
       "      <td>17.395000</td>\n",
       "      <td>24.380000</td>\n",
       "      <td>52.060000</td>\n",
       "      <td>92.250000</td>\n",
       "    </tr>\n",
       "  </tbody>\n",
       "</table>\n",
       "</div>"
      ],
      "text/plain": [
       "                         count        mean          std         min  \\\n",
       "number                  1095.0  547.000000   316.243577    0.000000   \n",
       "air_pressure_9am        1092.0  918.882551     3.184161  907.990000   \n",
       "air_temp_9am            1090.0   64.933001    11.175514   36.752000   \n",
       "avg_wind_direction_9am  1091.0  142.235511    69.137859   15.500000   \n",
       "avg_wind_speed_9am      1092.0    5.508284     4.552813    0.693451   \n",
       "max_wind_direction_9am  1092.0  148.953518    67.238013   28.900000   \n",
       "max_wind_speed_9am      1091.0    7.019514     5.598209    1.185578   \n",
       "rain_accumulation_9am   1089.0    0.203079     1.593952    0.000000   \n",
       "rain_duration_9am       1092.0  294.108052  1598.078779    0.000000   \n",
       "relative_humidity_9am   1095.0   34.241402    25.472067    6.090000   \n",
       "relative_humidity_3pm   1095.0   35.344727    22.524079    5.300000   \n",
       "\n",
       "                               25%         50%         75%           max  \n",
       "number                  273.500000  547.000000  820.500000   1094.000000  \n",
       "air_pressure_9am        916.550000  918.921045  921.160073    929.320000  \n",
       "air_temp_9am             57.281000   65.715479   73.450974     98.906000  \n",
       "avg_wind_direction_9am   65.972506  166.000000  191.000000    343.400000  \n",
       "avg_wind_speed_9am        2.248768    3.871333    7.337163     23.554978  \n",
       "max_wind_direction_9am   76.553003  177.300000  201.233153    312.200000  \n",
       "max_wind_speed_9am        3.067477    4.943637    8.947760     29.840780  \n",
       "rain_accumulation_9am     0.000000    0.000000    0.000000     24.020000  \n",
       "rain_duration_9am         0.000000    0.000000    0.000000  17704.000000  \n",
       "relative_humidity_9am    15.092243   23.179259   45.400000     92.620000  \n",
       "relative_humidity_3pm    17.395000   24.380000   52.060000     92.250000  "
      ]
     },
     "execution_count": 17,
     "metadata": {},
     "output_type": "execute_result"
    }
   ],
   "source": [
    "df.describe().transpose()"
   ]
  },
  {
   "cell_type": "code",
   "execution_count": 18,
   "metadata": {},
   "outputs": [
    {
     "data": {
      "text/plain": [
       "['number',\n",
       " 'air_pressure_9am',\n",
       " 'air_temp_9am',\n",
       " 'avg_wind_direction_9am',\n",
       " 'avg_wind_speed_9am',\n",
       " 'max_wind_direction_9am',\n",
       " 'max_wind_speed_9am',\n",
       " 'rain_accumulation_9am',\n",
       " 'rain_duration_9am',\n",
       " 'relative_humidity_9am',\n",
       " 'relative_humidity_3pm']"
      ]
     },
     "execution_count": 18,
     "metadata": {},
     "output_type": "execute_result"
    }
   ],
   "source": [
    "df.columns.tolist()"
   ]
  },
  {
   "cell_type": "markdown",
   "metadata": {},
   "source": [
    "In this dataset we will use Classification technique to predict humidity at 3pm using all the 9am(MOrning ) metrics"
   ]
  },
  {
   "cell_type": "code",
   "execution_count": 19,
   "metadata": {},
   "outputs": [
    {
     "data": {
      "text/html": [
       "<div>\n",
       "<style scoped>\n",
       "    .dataframe tbody tr th:only-of-type {\n",
       "        vertical-align: middle;\n",
       "    }\n",
       "\n",
       "    .dataframe tbody tr th {\n",
       "        vertical-align: top;\n",
       "    }\n",
       "\n",
       "    .dataframe thead th {\n",
       "        text-align: right;\n",
       "    }\n",
       "</style>\n",
       "<table border=\"1\" class=\"dataframe\">\n",
       "  <thead>\n",
       "    <tr style=\"text-align: right;\">\n",
       "      <th></th>\n",
       "      <th>number</th>\n",
       "      <th>air_pressure_9am</th>\n",
       "      <th>air_temp_9am</th>\n",
       "      <th>avg_wind_direction_9am</th>\n",
       "      <th>avg_wind_speed_9am</th>\n",
       "      <th>max_wind_direction_9am</th>\n",
       "      <th>max_wind_speed_9am</th>\n",
       "      <th>rain_accumulation_9am</th>\n",
       "      <th>rain_duration_9am</th>\n",
       "      <th>relative_humidity_9am</th>\n",
       "      <th>relative_humidity_3pm</th>\n",
       "    </tr>\n",
       "  </thead>\n",
       "  <tbody>\n",
       "    <tr>\n",
       "      <td>number</td>\n",
       "      <td>1.000000</td>\n",
       "      <td>-0.029763</td>\n",
       "      <td>0.045170</td>\n",
       "      <td>-0.007649</td>\n",
       "      <td>-0.021932</td>\n",
       "      <td>0.004230</td>\n",
       "      <td>-0.013782</td>\n",
       "      <td>0.007749</td>\n",
       "      <td>-0.002075</td>\n",
       "      <td>-0.025631</td>\n",
       "      <td>-0.018406</td>\n",
       "    </tr>\n",
       "    <tr>\n",
       "      <td>air_pressure_9am</td>\n",
       "      <td>-0.029763</td>\n",
       "      <td>1.000000</td>\n",
       "      <td>-0.049252</td>\n",
       "      <td>-0.317073</td>\n",
       "      <td>0.235254</td>\n",
       "      <td>-0.293780</td>\n",
       "      <td>0.252614</td>\n",
       "      <td>-0.091142</td>\n",
       "      <td>-0.105059</td>\n",
       "      <td>-0.431961</td>\n",
       "      <td>-0.479468</td>\n",
       "    </tr>\n",
       "    <tr>\n",
       "      <td>air_temp_9am</td>\n",
       "      <td>0.045170</td>\n",
       "      <td>-0.049252</td>\n",
       "      <td>1.000000</td>\n",
       "      <td>-0.024714</td>\n",
       "      <td>-0.286494</td>\n",
       "      <td>-0.088657</td>\n",
       "      <td>-0.283750</td>\n",
       "      <td>-0.214538</td>\n",
       "      <td>-0.266145</td>\n",
       "      <td>-0.587560</td>\n",
       "      <td>-0.497916</td>\n",
       "    </tr>\n",
       "    <tr>\n",
       "      <td>avg_wind_direction_9am</td>\n",
       "      <td>-0.007649</td>\n",
       "      <td>-0.317073</td>\n",
       "      <td>-0.024714</td>\n",
       "      <td>1.000000</td>\n",
       "      <td>-0.432951</td>\n",
       "      <td>0.871308</td>\n",
       "      <td>-0.456510</td>\n",
       "      <td>0.125736</td>\n",
       "      <td>0.122559</td>\n",
       "      <td>0.355438</td>\n",
       "      <td>0.393263</td>\n",
       "    </tr>\n",
       "    <tr>\n",
       "      <td>avg_wind_speed_9am</td>\n",
       "      <td>-0.021932</td>\n",
       "      <td>0.235254</td>\n",
       "      <td>-0.286494</td>\n",
       "      <td>-0.432951</td>\n",
       "      <td>1.000000</td>\n",
       "      <td>-0.355639</td>\n",
       "      <td>0.995327</td>\n",
       "      <td>0.017727</td>\n",
       "      <td>0.018295</td>\n",
       "      <td>-0.090775</td>\n",
       "      <td>-0.146049</td>\n",
       "    </tr>\n",
       "    <tr>\n",
       "      <td>max_wind_direction_9am</td>\n",
       "      <td>0.004230</td>\n",
       "      <td>-0.293780</td>\n",
       "      <td>-0.088657</td>\n",
       "      <td>0.871308</td>\n",
       "      <td>-0.355639</td>\n",
       "      <td>1.000000</td>\n",
       "      <td>-0.379523</td>\n",
       "      <td>0.105140</td>\n",
       "      <td>0.092038</td>\n",
       "      <td>0.377084</td>\n",
       "      <td>0.415220</td>\n",
       "    </tr>\n",
       "    <tr>\n",
       "      <td>max_wind_speed_9am</td>\n",
       "      <td>-0.013782</td>\n",
       "      <td>0.252614</td>\n",
       "      <td>-0.283750</td>\n",
       "      <td>-0.456510</td>\n",
       "      <td>0.995327</td>\n",
       "      <td>-0.379523</td>\n",
       "      <td>1.000000</td>\n",
       "      <td>0.019879</td>\n",
       "      <td>0.027406</td>\n",
       "      <td>-0.103995</td>\n",
       "      <td>-0.166554</td>\n",
       "    </tr>\n",
       "    <tr>\n",
       "      <td>rain_accumulation_9am</td>\n",
       "      <td>0.007749</td>\n",
       "      <td>-0.091142</td>\n",
       "      <td>-0.214538</td>\n",
       "      <td>0.125736</td>\n",
       "      <td>0.017727</td>\n",
       "      <td>0.105140</td>\n",
       "      <td>0.019879</td>\n",
       "      <td>1.000000</td>\n",
       "      <td>0.734037</td>\n",
       "      <td>0.245571</td>\n",
       "      <td>0.199467</td>\n",
       "    </tr>\n",
       "    <tr>\n",
       "      <td>rain_duration_9am</td>\n",
       "      <td>-0.002075</td>\n",
       "      <td>-0.105059</td>\n",
       "      <td>-0.266145</td>\n",
       "      <td>0.122559</td>\n",
       "      <td>0.018295</td>\n",
       "      <td>0.092038</td>\n",
       "      <td>0.027406</td>\n",
       "      <td>0.734037</td>\n",
       "      <td>1.000000</td>\n",
       "      <td>0.316210</td>\n",
       "      <td>0.281781</td>\n",
       "    </tr>\n",
       "    <tr>\n",
       "      <td>relative_humidity_9am</td>\n",
       "      <td>-0.025631</td>\n",
       "      <td>-0.431961</td>\n",
       "      <td>-0.587560</td>\n",
       "      <td>0.355438</td>\n",
       "      <td>-0.090775</td>\n",
       "      <td>0.377084</td>\n",
       "      <td>-0.103995</td>\n",
       "      <td>0.245571</td>\n",
       "      <td>0.316210</td>\n",
       "      <td>1.000000</td>\n",
       "      <td>0.883074</td>\n",
       "    </tr>\n",
       "    <tr>\n",
       "      <td>relative_humidity_3pm</td>\n",
       "      <td>-0.018406</td>\n",
       "      <td>-0.479468</td>\n",
       "      <td>-0.497916</td>\n",
       "      <td>0.393263</td>\n",
       "      <td>-0.146049</td>\n",
       "      <td>0.415220</td>\n",
       "      <td>-0.166554</td>\n",
       "      <td>0.199467</td>\n",
       "      <td>0.281781</td>\n",
       "      <td>0.883074</td>\n",
       "      <td>1.000000</td>\n",
       "    </tr>\n",
       "  </tbody>\n",
       "</table>\n",
       "</div>"
      ],
      "text/plain": [
       "                          number  air_pressure_9am  air_temp_9am  \\\n",
       "number                  1.000000         -0.029763      0.045170   \n",
       "air_pressure_9am       -0.029763          1.000000     -0.049252   \n",
       "air_temp_9am            0.045170         -0.049252      1.000000   \n",
       "avg_wind_direction_9am -0.007649         -0.317073     -0.024714   \n",
       "avg_wind_speed_9am     -0.021932          0.235254     -0.286494   \n",
       "max_wind_direction_9am  0.004230         -0.293780     -0.088657   \n",
       "max_wind_speed_9am     -0.013782          0.252614     -0.283750   \n",
       "rain_accumulation_9am   0.007749         -0.091142     -0.214538   \n",
       "rain_duration_9am      -0.002075         -0.105059     -0.266145   \n",
       "relative_humidity_9am  -0.025631         -0.431961     -0.587560   \n",
       "relative_humidity_3pm  -0.018406         -0.479468     -0.497916   \n",
       "\n",
       "                        avg_wind_direction_9am  avg_wind_speed_9am  \\\n",
       "number                               -0.007649           -0.021932   \n",
       "air_pressure_9am                     -0.317073            0.235254   \n",
       "air_temp_9am                         -0.024714           -0.286494   \n",
       "avg_wind_direction_9am                1.000000           -0.432951   \n",
       "avg_wind_speed_9am                   -0.432951            1.000000   \n",
       "max_wind_direction_9am                0.871308           -0.355639   \n",
       "max_wind_speed_9am                   -0.456510            0.995327   \n",
       "rain_accumulation_9am                 0.125736            0.017727   \n",
       "rain_duration_9am                     0.122559            0.018295   \n",
       "relative_humidity_9am                 0.355438           -0.090775   \n",
       "relative_humidity_3pm                 0.393263           -0.146049   \n",
       "\n",
       "                        max_wind_direction_9am  max_wind_speed_9am  \\\n",
       "number                                0.004230           -0.013782   \n",
       "air_pressure_9am                     -0.293780            0.252614   \n",
       "air_temp_9am                         -0.088657           -0.283750   \n",
       "avg_wind_direction_9am                0.871308           -0.456510   \n",
       "avg_wind_speed_9am                   -0.355639            0.995327   \n",
       "max_wind_direction_9am                1.000000           -0.379523   \n",
       "max_wind_speed_9am                   -0.379523            1.000000   \n",
       "rain_accumulation_9am                 0.105140            0.019879   \n",
       "rain_duration_9am                     0.092038            0.027406   \n",
       "relative_humidity_9am                 0.377084           -0.103995   \n",
       "relative_humidity_3pm                 0.415220           -0.166554   \n",
       "\n",
       "                        rain_accumulation_9am  rain_duration_9am  \\\n",
       "number                               0.007749          -0.002075   \n",
       "air_pressure_9am                    -0.091142          -0.105059   \n",
       "air_temp_9am                        -0.214538          -0.266145   \n",
       "avg_wind_direction_9am               0.125736           0.122559   \n",
       "avg_wind_speed_9am                   0.017727           0.018295   \n",
       "max_wind_direction_9am               0.105140           0.092038   \n",
       "max_wind_speed_9am                   0.019879           0.027406   \n",
       "rain_accumulation_9am                1.000000           0.734037   \n",
       "rain_duration_9am                    0.734037           1.000000   \n",
       "relative_humidity_9am                0.245571           0.316210   \n",
       "relative_humidity_3pm                0.199467           0.281781   \n",
       "\n",
       "                        relative_humidity_9am  relative_humidity_3pm  \n",
       "number                              -0.025631              -0.018406  \n",
       "air_pressure_9am                    -0.431961              -0.479468  \n",
       "air_temp_9am                        -0.587560              -0.497916  \n",
       "avg_wind_direction_9am               0.355438               0.393263  \n",
       "avg_wind_speed_9am                  -0.090775              -0.146049  \n",
       "max_wind_direction_9am               0.377084               0.415220  \n",
       "max_wind_speed_9am                  -0.103995              -0.166554  \n",
       "rain_accumulation_9am                0.245571               0.199467  \n",
       "rain_duration_9am                    0.316210               0.281781  \n",
       "relative_humidity_9am                1.000000               0.883074  \n",
       "relative_humidity_3pm                0.883074               1.000000  "
      ]
     },
     "execution_count": 19,
     "metadata": {},
     "output_type": "execute_result"
    }
   ],
   "source": [
    "df.corr()"
   ]
  },
  {
   "cell_type": "code",
   "execution_count": 20,
   "metadata": {},
   "outputs": [
    {
     "data": {
      "text/html": [
       "<div>\n",
       "<style scoped>\n",
       "    .dataframe tbody tr th:only-of-type {\n",
       "        vertical-align: middle;\n",
       "    }\n",
       "\n",
       "    .dataframe tbody tr th {\n",
       "        vertical-align: top;\n",
       "    }\n",
       "\n",
       "    .dataframe thead th {\n",
       "        text-align: right;\n",
       "    }\n",
       "</style>\n",
       "<table border=\"1\" class=\"dataframe\">\n",
       "  <thead>\n",
       "    <tr style=\"text-align: right;\">\n",
       "      <th></th>\n",
       "      <th>relative_humidity_9am</th>\n",
       "      <th>relative_humidity_3pm</th>\n",
       "    </tr>\n",
       "  </thead>\n",
       "  <tbody>\n",
       "    <tr>\n",
       "      <td>relative_humidity_9am</td>\n",
       "      <td>1.000000</td>\n",
       "      <td>0.883074</td>\n",
       "    </tr>\n",
       "    <tr>\n",
       "      <td>relative_humidity_3pm</td>\n",
       "      <td>0.883074</td>\n",
       "      <td>1.000000</td>\n",
       "    </tr>\n",
       "  </tbody>\n",
       "</table>\n",
       "</div>"
      ],
      "text/plain": [
       "                       relative_humidity_9am  relative_humidity_3pm\n",
       "relative_humidity_9am               1.000000               0.883074\n",
       "relative_humidity_3pm               0.883074               1.000000"
      ]
     },
     "execution_count": 20,
     "metadata": {},
     "output_type": "execute_result"
    }
   ],
   "source": [
    "df[['relative_humidity_9am','relative_humidity_3pm']].corr()"
   ]
  },
  {
   "cell_type": "markdown",
   "metadata": {},
   "source": [
    "From the correlation tables it is clear that the Column 'realtive_humidity_9am' is almost corelatead to 'relative_humidity_3pm\n",
    "and rest others columns are very less or not at all correlated"
   ]
  },
  {
   "cell_type": "markdown",
   "metadata": {},
   "source": [
    "So we can use \"relative_humidity_9am' as our Featue (as a sigle Feature)"
   ]
  },
  {
   "cell_type": "code",
   "execution_count": 26,
   "metadata": {},
   "outputs": [
    {
     "data": {
      "text/plain": [
       "False"
      ]
     },
     "execution_count": 26,
     "metadata": {},
     "output_type": "execute_result"
    }
   ],
   "source": [
    "#fist check for the missing value in these columns\n",
    "df['relative_humidity_3pm'].isnull().any()"
   ]
  },
  {
   "cell_type": "code",
   "execution_count": 27,
   "metadata": {},
   "outputs": [
    {
     "data": {
      "text/plain": [
       "False"
      ]
     },
     "execution_count": 27,
     "metadata": {},
     "output_type": "execute_result"
    }
   ],
   "source": [
    "df['relative_humidity_9am'].isnull().any()"
   ]
  },
  {
   "cell_type": "code",
   "execution_count": 33,
   "metadata": {},
   "outputs": [],
   "source": [
    "x = df[['relative_humidity_9am']]\n",
    "y = df[['relative_humidity_3pm']]"
   ]
  },
  {
   "cell_type": "code",
   "execution_count": null,
   "metadata": {},
   "outputs": [],
   "source": []
  },
  {
   "cell_type": "code",
   "execution_count": null,
   "metadata": {},
   "outputs": [],
   "source": []
  },
  {
   "cell_type": "code",
   "execution_count": 23,
   "metadata": {},
   "outputs": [],
   "source": [
    "from sklearn.linear_model import LinearRegression\n"
   ]
  },
  {
   "cell_type": "code",
   "execution_count": 24,
   "metadata": {},
   "outputs": [
    {
     "data": {
      "text/plain": [
       "(1095, 11)"
      ]
     },
     "execution_count": 24,
     "metadata": {},
     "output_type": "execute_result"
    }
   ],
   "source": [
    "df.shape"
   ]
  },
  {
   "cell_type": "code",
   "execution_count": 34,
   "metadata": {},
   "outputs": [],
   "source": [
    "x_train, x_test, y_train, y_test = train_test_split(x,y,test_size = 0.2, random_state = 0)"
   ]
  },
  {
   "cell_type": "code",
   "execution_count": 35,
   "metadata": {},
   "outputs": [
    {
     "data": {
      "text/plain": [
       "LinearRegression(copy_X=True, fit_intercept=True, n_jobs=None, normalize=False)"
      ]
     },
     "execution_count": 35,
     "metadata": {},
     "output_type": "execute_result"
    }
   ],
   "source": [
    "lm = LinearRegression()\n",
    "lm.fit(x_train,y_train)"
   ]
  },
  {
   "cell_type": "code",
   "execution_count": 36,
   "metadata": {},
   "outputs": [],
   "source": [
    "p = lm.predict(x_test)"
   ]
  },
  {
   "cell_type": "code",
   "execution_count": 37,
   "metadata": {},
   "outputs": [
    {
     "data": {
      "text/plain": [
       "array([[37.29447125],\n",
       "       [22.74179721],\n",
       "       [65.44880688],\n",
       "       [20.64321514],\n",
       "       [68.08166431],\n",
       "       [46.03931917],\n",
       "       [72.75968779],\n",
       "       [34.13660951],\n",
       "       [77.39069596],\n",
       "       [24.27906589],\n",
       "       [21.1447118 ],\n",
       "       [19.43079863],\n",
       "       [34.9358698 ],\n",
       "       [79.51422086],\n",
       "       [20.29060031],\n",
       "       [31.12762958],\n",
       "       [20.41597447],\n",
       "       [19.38947351],\n",
       "       [18.83454628],\n",
       "       [58.72561735],\n",
       "       [17.67341464],\n",
       "       [67.68987005],\n",
       "       [35.71162244],\n",
       "       [19.1658611 ],\n",
       "       [24.11543467],\n",
       "       [13.95112746],\n",
       "       [22.32793047],\n",
       "       [71.31788491],\n",
       "       [21.8943352 ],\n",
       "       [32.2324894 ],\n",
       "       [21.50411405],\n",
       "       [15.15163073],\n",
       "       [79.93735866],\n",
       "       [80.75229073],\n",
       "       [28.7206987 ],\n",
       "       [28.41641329],\n",
       "       [20.07497621],\n",
       "       [17.44617397],\n",
       "       [19.27977111],\n",
       "       [37.34148656],\n",
       "       [27.139164  ],\n",
       "       [73.40223038],\n",
       "       [27.99327549],\n",
       "       [16.88199023],\n",
       "       [71.13765955],\n",
       "       [40.61688659],\n",
       "       [23.27193574],\n",
       "       [21.28575773],\n",
       "       [43.65721006],\n",
       "       [18.93499216],\n",
       "       [19.43338669],\n",
       "       [33.17279562],\n",
       "       [18.1347253 ],\n",
       "       [18.08088067],\n",
       "       [40.69524544],\n",
       "       [14.63309117],\n",
       "       [63.35662552],\n",
       "       [18.45694418],\n",
       "       [29.69429845],\n",
       "       [54.53341875],\n",
       "       [20.03985198],\n",
       "       [26.12049892],\n",
       "       [21.03835369],\n",
       "       [19.2380118 ],\n",
       "       [19.94767443],\n",
       "       [49.55763163],\n",
       "       [22.55649458],\n",
       "       [48.29605411],\n",
       "       [49.54979575],\n",
       "       [21.66971611],\n",
       "       [32.21681763],\n",
       "       [71.02795716],\n",
       "       [19.02902279],\n",
       "       [32.66346308],\n",
       "       [23.35488667],\n",
       "       [36.30714971],\n",
       "       [17.99691419],\n",
       "       [32.74965782],\n",
       "       [18.72677209],\n",
       "       [67.88576718],\n",
       "       [23.32308789],\n",
       "       [27.57695278],\n",
       "       [23.62215793],\n",
       "       [16.54305862],\n",
       "       [45.51953878],\n",
       "       [21.22723827],\n",
       "       [13.28531891],\n",
       "       [42.65515586],\n",
       "       [21.99355999],\n",
       "       [21.59761559],\n",
       "       [20.05552375],\n",
       "       [47.05014836],\n",
       "       [78.78548353],\n",
       "       [33.35302098],\n",
       "       [20.79209696],\n",
       "       [28.4085774 ],\n",
       "       [15.31481319],\n",
       "       [33.80750233],\n",
       "       [70.77720883],\n",
       "       [15.70318606],\n",
       "       [27.16742334],\n",
       "       [32.36287661],\n",
       "       [46.09417036],\n",
       "       [18.59021321],\n",
       "       [23.75406158],\n",
       "       [31.59778269],\n",
       "       [79.90601512],\n",
       "       [53.73415846],\n",
       "       [22.55403656],\n",
       "       [21.91509739],\n",
       "       [23.90988062],\n",
       "       [65.45664276],\n",
       "       [42.70123206],\n",
       "       [72.98692847],\n",
       "       [48.06881344],\n",
       "       [30.76717886],\n",
       "       [60.83347048],\n",
       "       [18.00321869],\n",
       "       [27.06080515],\n",
       "       [40.12322582],\n",
       "       [22.50128164],\n",
       "       [23.71970408],\n",
       "       [38.69709471],\n",
       "       [19.9223137 ],\n",
       "       [25.25071566],\n",
       "       [29.52291628],\n",
       "       [16.57568825],\n",
       "       [19.08387398],\n",
       "       [49.5733034 ],\n",
       "       [43.28892345],\n",
       "       [80.5015424 ],\n",
       "       [22.83518781],\n",
       "       [42.35645311],\n",
       "       [32.2324894 ],\n",
       "       [35.97804253],\n",
       "       [44.73856222],\n",
       "       [35.92319134],\n",
       "       [20.83127639],\n",
       "       [57.73829581],\n",
       "       [28.39290563],\n",
       "       [23.69921038],\n",
       "       [18.73909503],\n",
       "       [38.46985404],\n",
       "       [20.92530701],\n",
       "       [60.84914225],\n",
       "       [79.10675483],\n",
       "       [30.04627742],\n",
       "       [17.52600502],\n",
       "       [69.23353944],\n",
       "       [28.69850516],\n",
       "       [39.80970165],\n",
       "       [21.03705487],\n",
       "       [31.86420279],\n",
       "       [80.13325579],\n",
       "       [29.62313961],\n",
       "       [23.66786684],\n",
       "       [43.4769847 ],\n",
       "       [37.02021527],\n",
       "       [80.03922517],\n",
       "       [19.08387398],\n",
       "       [18.87230508],\n",
       "       [18.30049536],\n",
       "       [42.80309857],\n",
       "       [36.07207316],\n",
       "       [25.94027356],\n",
       "       [36.92618465],\n",
       "       [47.97478282],\n",
       "       [79.69444622],\n",
       "       [70.40892223],\n",
       "       [18.66525768],\n",
       "       [22.37494578],\n",
       "       [19.5879477 ],\n",
       "       [29.35671952],\n",
       "       [36.04072962],\n",
       "       [15.15809548],\n",
       "       [34.05041477],\n",
       "       [15.48720266],\n",
       "       [37.92134207],\n",
       "       [28.61060156],\n",
       "       [63.19207193],\n",
       "       [79.34183139],\n",
       "       [27.90708075],\n",
       "       [17.90415288],\n",
       "       [33.58026165],\n",
       "       [27.26453816],\n",
       "       [18.00252182],\n",
       "       [33.65078462],\n",
       "       [23.98491734],\n",
       "       [20.28276442],\n",
       "       [19.22491992],\n",
       "       [24.66632391],\n",
       "       [20.90179936],\n",
       "       [21.43203764],\n",
       "       [21.95964386],\n",
       "       [34.15228128],\n",
       "       [78.31533042],\n",
       "       [29.60746784],\n",
       "       [19.0760381 ],\n",
       "       [16.70397338],\n",
       "       [28.54289311],\n",
       "       [19.35334371],\n",
       "       [24.90593671],\n",
       "       [77.46121893],\n",
       "       [20.06335964],\n",
       "       [16.99023121],\n",
       "       [26.04997595],\n",
       "       [75.32985815],\n",
       "       [26.59255971],\n",
       "       [13.94312035],\n",
       "       [21.44247544],\n",
       "       [15.4166797 ],\n",
       "       [32.74182194],\n",
       "       [63.8424504 ],\n",
       "       [52.69982161],\n",
       "       [29.46642191],\n",
       "       [66.14620066],\n",
       "       [75.61195002],\n",
       "       [80.69743953],\n",
       "       [18.64709294]])"
      ]
     },
     "execution_count": 37,
     "metadata": {},
     "output_type": "execute_result"
    }
   ],
   "source": [
    "p"
   ]
  },
  {
   "cell_type": "code",
   "execution_count": 39,
   "metadata": {},
   "outputs": [
    {
     "data": {
      "text/plain": [
       "219"
      ]
     },
     "execution_count": 39,
     "metadata": {},
     "output_type": "execute_result"
    }
   ],
   "source": [
    "p.size"
   ]
  },
  {
   "cell_type": "code",
   "execution_count": 42,
   "metadata": {},
   "outputs": [
    {
     "data": {
      "text/plain": [
       "array([37.29447125])"
      ]
     },
     "execution_count": 42,
     "metadata": {},
     "output_type": "execute_result"
    }
   ],
   "source": [
    "p[0]"
   ]
  },
  {
   "cell_type": "code",
   "execution_count": 45,
   "metadata": {},
   "outputs": [
    {
     "data": {
      "text/plain": [
       "relative_humidity_3pm    45.62\n",
       "Name: 784, dtype: float64"
      ]
     },
     "execution_count": 45,
     "metadata": {},
     "output_type": "execute_result"
    }
   ],
   "source": [
    "y_test.iloc[0]"
   ]
  },
  {
   "cell_type": "code",
   "execution_count": 40,
   "metadata": {},
   "outputs": [
    {
     "data": {
      "text/plain": [
       "219"
      ]
     },
     "execution_count": 40,
     "metadata": {},
     "output_type": "execute_result"
    }
   ],
   "source": [
    "y_test.size"
   ]
  },
  {
   "cell_type": "code",
   "execution_count": 41,
   "metadata": {},
   "outputs": [],
   "source": [
    "#Now evaluate the accuracy of the model with mean_squared error\n",
    "from sklearn.metrics import mean_squared_error\n",
    "\n"
   ]
  },
  {
   "cell_type": "code",
   "execution_count": 47,
   "metadata": {},
   "outputs": [],
   "source": [
    "e = mean_squared_error(y_test,p)"
   ]
  },
  {
   "cell_type": "code",
   "execution_count": 48,
   "metadata": {},
   "outputs": [
    {
     "data": {
      "text/plain": [
       "126.3857205204274"
      ]
     },
     "execution_count": 48,
     "metadata": {},
     "output_type": "execute_result"
    }
   ],
   "source": [
    "e"
   ]
  },
  {
   "cell_type": "code",
   "execution_count": 49,
   "metadata": {},
   "outputs": [],
   "source": [
    "# we want to know root mean squared error"
   ]
  },
  {
   "cell_type": "code",
   "execution_count": 50,
   "metadata": {},
   "outputs": [],
   "source": [
    "from math import sqrt"
   ]
  },
  {
   "cell_type": "code",
   "execution_count": 51,
   "metadata": {},
   "outputs": [],
   "source": [
    "rmse = sqrt(e)"
   ]
  },
  {
   "cell_type": "code",
   "execution_count": 52,
   "metadata": {},
   "outputs": [
    {
     "data": {
      "text/plain": [
       "11.24214038875282"
      ]
     },
     "execution_count": 52,
     "metadata": {},
     "output_type": "execute_result"
    }
   ],
   "source": [
    "rmse"
   ]
  },
  {
   "cell_type": "markdown",
   "metadata": {},
   "source": [
    "Lets plot the values in the graph"
   ]
  },
  {
   "cell_type": "code",
   "execution_count": 53,
   "metadata": {},
   "outputs": [],
   "source": [
    "import seaborn as sns"
   ]
  },
  {
   "cell_type": "code",
   "execution_count": 54,
   "metadata": {},
   "outputs": [
    {
     "data": {
      "text/plain": [
       "<matplotlib.axes._subplots.AxesSubplot at 0x24f5dbecec8>"
      ]
     },
     "execution_count": 54,
     "metadata": {},
     "output_type": "execute_result"
    },
    {
     "data": {
      "image/png": "[encoded data removed]",
      "text/plain": [
       "<Figure size 432x288 with 1 Axes>"
      ]
     },
     "metadata": {
      "needs_background": "light"
     },
     "output_type": "display_data"
    }
   ],
   "source": [
    "ax1 = sns.distplot(y_test,hist = False, color = 'r', label='Actual Value')\n",
    "sns.distplot(p, hist= False, color='b', label = 'Predicted Value', ax =ax1)"
   ]
  },
  {
   "cell_type": "code",
   "execution_count": 55,
   "metadata": {},
   "outputs": [],
   "source": [
    "#Save this Model as pickle file\n",
    "\n",
    "import pickle\n"
   ]
  },
  {
   "cell_type": "code",
   "execution_count": 60,
   "metadata": {},
   "outputs": [],
   "source": [
    "\n",
    "pickle.dump(lm, open('LRmodel.pkl','wb'))\n"
   ]
  },
  {
   "cell_type": "code",
   "execution_count": null,
   "metadata": {},
   "outputs": [],
   "source": []
  }
 ],
 "metadata": {
  "kernelspec": {
   "display_name": "Python 3",
   "language": "python",
   "name": "python3"
  },
  "language_info": {
   "codemirror_mode": {
    "name": "ipython",
    "version": 3
   },
   "file_extension": ".py",
   "mimetype": "text/x-python",
   "name": "python",
   "nbconvert_exporter": "python",
   "pygments_lexer": "ipython3",
   "version": "3.7.4"
  }
 },
 "nbformat": 4,
 "nbformat_minor": 2
}
